{
 "cells": [
  {
   "cell_type": "markdown",
   "metadata": {},
   "source": [
    "# Assignment 5: Web scrapping elections from the JNE page\n",
    "The script should not give an error. Any mistake will be consider as 0.\n"
   ]
  },
  {
   "cell_type": "markdown",
   "metadata": {},
   "source": [
    "Group 3\n",
    "\n",
    "-Fátima Trujillo Quiñe\n",
    "-Reynaldo Padilla Milla\n",
    "-Claudia Córdova Yamauchi\n",
    "-Mauricio Flores Jiménez"
   ]
  },
  {
   "cell_type": "markdown",
   "metadata": {},
   "source": [
    "# 1. Calling the libraries"
   ]
  },
  {
   "cell_type": "code",
   "execution_count": 1,
   "metadata": {},
   "outputs": [],
   "source": [
    "from selenium import webdriver\n",
    "from webdriver_manager.chrome import ChromeDriverManager\n",
    "from selenium.webdriver.common.by import By\n",
    "from selenium.webdriver.support.ui import Select\n",
    "from selenium.webdriver.chrome.service import Service\n",
    "from selenium.webdriver.common.keys import Keys\n",
    "from selenium.webdriver.support.ui import WebDriverWait\n",
    "from selenium.webdriver.support import expected_conditions as EC\n",
    "import re\n",
    "import time\n",
    "import pandas as pd\n",
    "import os\n",
    "from io import StringIO"
   ]
  },
  {
   "cell_type": "markdown",
   "metadata": {},
   "source": [
    "These libraries are essential for automating web scraping and handling data:\n",
    "\n",
    "selenium: Automates browser interactions, allowing you to navigate web pages, click elements, and extract data. Key components include webdriver for controlling the browser, By for locating elements, WebDriverWait and expected_conditions for managing wait times, and Keys for keyboard actions.\n",
    "\n",
    "webdriver_manager: Simplifies the setup of ChromeDriver, ensuring the correct version is installed and used with Selenium, avoiding compatibility issues.\n",
    "\n",
    "pandas: Provides powerful data manipulation tools, enabling the storage, processing, and exporting of scraped data into formats like Excel.\n",
    "\n",
    "os: Handles file system operations, such as retrieving the current working directory and constructing file paths.\n",
    "\n",
    "StringIO: Allows handling HTML content as in-memory files, which is useful for converting scraped data into Pandas DataFrames without creating temporary files.\n",
    "\n",
    "re: Supports regular expressions, useful for pattern matching and text processing within scraped data.\n",
    "\n",
    "time: Manages timing functions, such as pauses between actions, to ensure elements load fully before interaction."
   ]
  },
  {
   "cell_type": "markdown",
   "metadata": {},
   "source": [
    "# 2. Setting the driver and the page"
   ]
  },
  {
   "cell_type": "markdown",
   "metadata": {},
   "source": [
    "First, we initialize a Chrome browser instance using Selenium (driver). Inmediately after, we'll maximize the window and set the zoom level to 100%. Maximizing the window and setting the zoom to the regular focus ensures that all elements on the webpage are fully visible and interactable, which is crucial for reliable web scraping. The driver controls the browser, allowing automated interaction with the page, such as clicking elements or extracting data."
   ]
  },
  {
   "cell_type": "code",
   "execution_count": 13,
   "metadata": {},
   "outputs": [],
   "source": [
    "driver = webdriver.Chrome(service=webdriver.chrome.service.Service(ChromeDriverManager().install()))\n",
    "driver\n",
    "\n",
    "# We set the window size and zoom.\n",
    "driver.maximize_window()\n",
    "driver.execute_script(\"document.body.style.zoom='100%'\")"
   ]
  },
  {
   "cell_type": "markdown",
   "metadata": {},
   "source": [
    "# 3. Indicating the web page and actions"
   ]
  },
  {
   "cell_type": "markdown",
   "metadata": {},
   "source": [
    "We'll automate the process of navigating the JNE web page. We are relying on Selenium to open the webpage, select the type of election (\"ELECCIONES PRESIDENCIALES\"), and then interact with a dropdown menu that displays all the available election results (it goes back to 1931). The options from this menu are collected into a list, and a dictionary is created that maps the text of each option to its corresponding element for future interaction."
   ]
  },
  {
   "cell_type": "code",
   "execution_count": 15,
   "metadata": {},
   "outputs": [
    {
     "data": {
      "text/plain": [
       "{'[SELECCIONE]': <selenium.webdriver.remote.webelement.WebElement (session=\"6f9c56a563ca6079c6ef42136d94ffc5\", element=\"f.479E4B9A1FADEF7C2E91688BC2818635.d.D20A11A23EF92F36FD9594C5CDAD4B0B.e.54\")>,\n",
       " 'PRESIDENCIAL 2021 - 2DA VUELTA': <selenium.webdriver.remote.webelement.WebElement (session=\"6f9c56a563ca6079c6ef42136d94ffc5\", element=\"f.479E4B9A1FADEF7C2E91688BC2818635.d.D20A11A23EF92F36FD9594C5CDAD4B0B.e.55\")>,\n",
       " 'PRESIDENCIAL 2021': <selenium.webdriver.remote.webelement.WebElement (session=\"6f9c56a563ca6079c6ef42136d94ffc5\", element=\"f.479E4B9A1FADEF7C2E91688BC2818635.d.D20A11A23EF92F36FD9594C5CDAD4B0B.e.56\")>,\n",
       " 'PRESIDENCIAL 2016 - 2DA VUELTA': <selenium.webdriver.remote.webelement.WebElement (session=\"6f9c56a563ca6079c6ef42136d94ffc5\", element=\"f.479E4B9A1FADEF7C2E91688BC2818635.d.D20A11A23EF92F36FD9594C5CDAD4B0B.e.57\")>,\n",
       " 'PRESIDENCIAL 2016': <selenium.webdriver.remote.webelement.WebElement (session=\"6f9c56a563ca6079c6ef42136d94ffc5\", element=\"f.479E4B9A1FADEF7C2E91688BC2818635.d.D20A11A23EF92F36FD9594C5CDAD4B0B.e.58\")>,\n",
       " 'PRESIDENCIAL 2011 - 2DA VUELTA': <selenium.webdriver.remote.webelement.WebElement (session=\"6f9c56a563ca6079c6ef42136d94ffc5\", element=\"f.479E4B9A1FADEF7C2E91688BC2818635.d.D20A11A23EF92F36FD9594C5CDAD4B0B.e.59\")>,\n",
       " 'PRESIDENCIAL 2011': <selenium.webdriver.remote.webelement.WebElement (session=\"6f9c56a563ca6079c6ef42136d94ffc5\", element=\"f.479E4B9A1FADEF7C2E91688BC2818635.d.D20A11A23EF92F36FD9594C5CDAD4B0B.e.60\")>,\n",
       " 'PRESIDENCIAL 2006 - 2DA VUELTA': <selenium.webdriver.remote.webelement.WebElement (session=\"6f9c56a563ca6079c6ef42136d94ffc5\", element=\"f.479E4B9A1FADEF7C2E91688BC2818635.d.D20A11A23EF92F36FD9594C5CDAD4B0B.e.61\")>,\n",
       " 'PRESIDENCIAL 2006': <selenium.webdriver.remote.webelement.WebElement (session=\"6f9c56a563ca6079c6ef42136d94ffc5\", element=\"f.479E4B9A1FADEF7C2E91688BC2818635.d.D20A11A23EF92F36FD9594C5CDAD4B0B.e.62\")>,\n",
       " 'PRESIDENCIAL 2001 - 2DA VUELTA': <selenium.webdriver.remote.webelement.WebElement (session=\"6f9c56a563ca6079c6ef42136d94ffc5\", element=\"f.479E4B9A1FADEF7C2E91688BC2818635.d.D20A11A23EF92F36FD9594C5CDAD4B0B.e.63\")>,\n",
       " 'PRESIDENCIAL 2001': <selenium.webdriver.remote.webelement.WebElement (session=\"6f9c56a563ca6079c6ef42136d94ffc5\", element=\"f.479E4B9A1FADEF7C2E91688BC2818635.d.D20A11A23EF92F36FD9594C5CDAD4B0B.e.64\")>,\n",
       " 'PRESIDENCIAL 2000 - 2DA VUELTA': <selenium.webdriver.remote.webelement.WebElement (session=\"6f9c56a563ca6079c6ef42136d94ffc5\", element=\"f.479E4B9A1FADEF7C2E91688BC2818635.d.D20A11A23EF92F36FD9594C5CDAD4B0B.e.65\")>,\n",
       " 'PRESIDENCIAL 2000': <selenium.webdriver.remote.webelement.WebElement (session=\"6f9c56a563ca6079c6ef42136d94ffc5\", element=\"f.479E4B9A1FADEF7C2E91688BC2818635.d.D20A11A23EF92F36FD9594C5CDAD4B0B.e.66\")>,\n",
       " 'PRESIDENCIAL 1995': <selenium.webdriver.remote.webelement.WebElement (session=\"6f9c56a563ca6079c6ef42136d94ffc5\", element=\"f.479E4B9A1FADEF7C2E91688BC2818635.d.D20A11A23EF92F36FD9594C5CDAD4B0B.e.67\")>,\n",
       " 'PRESIDENCIAL 1990 - 2DA VUELTA': <selenium.webdriver.remote.webelement.WebElement (session=\"6f9c56a563ca6079c6ef42136d94ffc5\", element=\"f.479E4B9A1FADEF7C2E91688BC2818635.d.D20A11A23EF92F36FD9594C5CDAD4B0B.e.68\")>,\n",
       " 'PRESIDENCIAL 1990': <selenium.webdriver.remote.webelement.WebElement (session=\"6f9c56a563ca6079c6ef42136d94ffc5\", element=\"f.479E4B9A1FADEF7C2E91688BC2818635.d.D20A11A23EF92F36FD9594C5CDAD4B0B.e.69\")>,\n",
       " 'PRESIDENCIAL 1985': <selenium.webdriver.remote.webelement.WebElement (session=\"6f9c56a563ca6079c6ef42136d94ffc5\", element=\"f.479E4B9A1FADEF7C2E91688BC2818635.d.D20A11A23EF92F36FD9594C5CDAD4B0B.e.70\")>,\n",
       " 'PRESIDENCIAL 1980': <selenium.webdriver.remote.webelement.WebElement (session=\"6f9c56a563ca6079c6ef42136d94ffc5\", element=\"f.479E4B9A1FADEF7C2E91688BC2818635.d.D20A11A23EF92F36FD9594C5CDAD4B0B.e.71\")>,\n",
       " 'PRESIDENCIAL 1963': <selenium.webdriver.remote.webelement.WebElement (session=\"6f9c56a563ca6079c6ef42136d94ffc5\", element=\"f.479E4B9A1FADEF7C2E91688BC2818635.d.D20A11A23EF92F36FD9594C5CDAD4B0B.e.72\")>,\n",
       " 'PRESIDENCIAL 1962': <selenium.webdriver.remote.webelement.WebElement (session=\"6f9c56a563ca6079c6ef42136d94ffc5\", element=\"f.479E4B9A1FADEF7C2E91688BC2818635.d.D20A11A23EF92F36FD9594C5CDAD4B0B.e.73\")>,\n",
       " 'PRESIDENCIAL 1956': <selenium.webdriver.remote.webelement.WebElement (session=\"6f9c56a563ca6079c6ef42136d94ffc5\", element=\"f.479E4B9A1FADEF7C2E91688BC2818635.d.D20A11A23EF92F36FD9594C5CDAD4B0B.e.74\")>,\n",
       " 'PRESIDENCIAL 1950': <selenium.webdriver.remote.webelement.WebElement (session=\"6f9c56a563ca6079c6ef42136d94ffc5\", element=\"f.479E4B9A1FADEF7C2E91688BC2818635.d.D20A11A23EF92F36FD9594C5CDAD4B0B.e.75\")>,\n",
       " 'PRESIDENCIAL 1945': <selenium.webdriver.remote.webelement.WebElement (session=\"6f9c56a563ca6079c6ef42136d94ffc5\", element=\"f.479E4B9A1FADEF7C2E91688BC2818635.d.D20A11A23EF92F36FD9594C5CDAD4B0B.e.76\")>,\n",
       " 'PRESIDENCIAL 1939': <selenium.webdriver.remote.webelement.WebElement (session=\"6f9c56a563ca6079c6ef42136d94ffc5\", element=\"f.479E4B9A1FADEF7C2E91688BC2818635.d.D20A11A23EF92F36FD9594C5CDAD4B0B.e.77\")>,\n",
       " 'PRESIDENCIAL 1936': <selenium.webdriver.remote.webelement.WebElement (session=\"6f9c56a563ca6079c6ef42136d94ffc5\", element=\"f.479E4B9A1FADEF7C2E91688BC2818635.d.D20A11A23EF92F36FD9594C5CDAD4B0B.e.78\")>,\n",
       " 'PRESIDENCIAL 1931': <selenium.webdriver.remote.webelement.WebElement (session=\"6f9c56a563ca6079c6ef42136d94ffc5\", element=\"f.479E4B9A1FADEF7C2E91688BC2818635.d.D20A11A23EF92F36FD9594C5CDAD4B0B.e.79\")>}"
      ]
     },
     "execution_count": 15,
     "metadata": {},
     "output_type": "execute_result"
    }
   ],
   "source": [
    "url = 'https://infogob.jne.gob.pe/Eleccion'\n",
    "driver.get(url)\n",
    "\n",
    "# We'll click on the first [SELECCIONE], the one for the elections type\n",
    "elections = driver.find_element(By.XPATH, '/html/body/div[1]/section/div[2]/div[2]/div[2]/div[1]/div').click()\n",
    "time.sleep(5)\n",
    "\n",
    "# Next, we choose (click on) ELECCIONES PRESIDENCIALES\n",
    "elections = driver.find_element(By.XPATH, '/html/body/div[1]/section/div[2]/div[2]/div[2]/div[1]/div/div[2]/div[2]').click()\n",
    "time.sleep(5)\n",
    "\n",
    "# Then, click on the [SELECCIONE] on the right (under Elección)\n",
    "elections = driver.find_element(By.XPATH, '/html/body/div[1]/section/div[2]/div[2]/div[2]/div[2]/div').click()\n",
    "time.sleep(5)\n",
    "\n",
    "# Now, we show the elements of the second menu\n",
    "elections_list = driver.find_element(By.XPATH, '/html/body/div[1]/section/div[2]/div[2]/div[2]/div[2]/div/div[2]')\n",
    "time.sleep(5)\n",
    "\n",
    "# Move on to create a list of elements representing election options\n",
    "options_elections_list = list(elections_list.find_elements(By.CLASS_NAME, 'item'))\n",
    "\n",
    "# Create a dictionary mapping the text of each option to the element itself\n",
    "dict_options = {option.text: option for option in options_elections_list}\n",
    "\n",
    "dict_options"
   ]
  },
  {
   "cell_type": "markdown",
   "metadata": {},
   "source": [
    "# 4. Establishing the actions to get the data from each electoral process"
   ]
  },
  {
   "cell_type": "markdown",
   "metadata": {},
   "source": [
    "This code initializes an empty DataFrame (df_results) to store the web scraping results. It iterates over the election options in a dictionary (dict_options), clicking each election option and using WebDriverWait to ensure elements are clickable before interacting with them. The code waits for and clicks the \"VER DATOS DE LA ELECCIÓN\" button and the \"CANDIDATOS Y RESULTADOS\" tab to load the election data. It then extracts the election results table, processes the relevant columns (ORGANIZACIÓN POLÍTICA, TOTAL VOTOS), adds a new column for the election name, and appends the data to df_results. We set longer wait times because shorter durations caused errors, aiming to guarantee that the page is fully loaded before each interaction. The code also includes time.sleep and navigation commands to handle page loads between iterations."
   ]
  },
  {
   "cell_type": "code",
   "execution_count": 17,
   "metadata": {},
   "outputs": [],
   "source": [
    "# We create an empty dataframe to storage the webscrapping results\n",
    "df_results = pd.DataFrame()\n",
    "\n",
    "# Iterating over the keys of the dictionary, representing all the election options\n",
    "# For this part, we had to change the waiting time because shorter times have stopped repeatedly the code from running\n",
    "for election_txt in list(dict_options.keys())[1:]:  # Excluding \"SELECCIONAR\" obtains all the dictionary keys \n",
    "    election = dict_options[election_txt]\n",
    "    election.click() #Clicks on every option of \"election\"\n",
    "\n",
    "    # With WebDriverWait, wait 25 seconds until the \"VER DATOS DE LA ELECCIÓN\" red button is clickable, then click it to load the selected election data\n",
    "    WebDriverWait(driver, 25).until(\n",
    "        EC.element_to_be_clickable((By.XPATH, '/html/body/div[1]/section/div[2]/div[2]/div[3]/div/button'))\n",
    "    ).click()\n",
    "\n",
    "    # Next, we'll wait until the \"CANDIDATOS Y RESULTADOS\" tab is clickable and click it to see the results\n",
    "    WebDriverWait(driver, 25).until(\n",
    "        EC.element_to_be_clickable((By.XPATH, '/html/body/div[1]/section/div[2]/div[3]/div[1]/ul/li[2]/a'))\n",
    "    ).click()\n",
    "\n",
    "    # Finally, wait until the table is present and extract the table HTML\n",
    "    table = WebDriverWait(driver, 25).until(\n",
    "        EC.presence_of_element_located((By.XPATH, '/html/body/div[1]/section/div[2]/div[3]/div[3]/div/div/div/div[1]/div[2]/div[2]'))\n",
    "    )\n",
    "\n",
    "    # Read the HTML of the table and turn it into a Pandas dataframe\n",
    "    # We also use StringIO to avoid the annoying warning about using the soon-to-be-deprecated pd.read_html function\n",
    "    table_html = StringIO(table.get_attribute('innerHTML'))\n",
    "    table = pd.read_html(table_html)\n",
    "\n",
    "    # Processing and storage data in the df_results\n",
    "    # Before everything, assign the first dataframe of table to df\n",
    "    df = table[0]\n",
    "\n",
    "    # Then select the columns 'ORGANIZACIÓN POLÍTICA' and 'TOTAL VOTOS' and append a new 'ELECCIONES' column\n",
    "    df = df[['ORGANIZACIÓN POLÍTICA', 'TOTAL VOTOS']].copy()\n",
    "    df.insert(0, 'ELECCIONES', election_txt)\n",
    "\n",
    "    # Concatenating df to df_results\n",
    "    df_results = pd.concat([df_results, df], ignore_index = True)\n",
    "\n",
    "    # Finally, going back and returning for the next iteration, and wait 25 seconds after each navigation to be sure the page is fully load\n",
    "    # We do it twice because one gets us to the \"NORMATIVA\" label and the other one to the initial page\n",
    "    driver.back()\n",
    "    time.sleep(25)\n",
    "\n",
    "    driver.back()\n",
    "    time.sleep(25)\n",
    "    \n",
    "    # Click on the next list item to choose the election\n",
    "    WebDriverWait(driver, 25).until(\n",
    "        EC.element_to_be_clickable((By.XPATH, '/html/body/div[1]/section/div[2]/div[2]/div[2]/div[2]/div'))\n",
    "    ).click()\n",
    "    time.sleep(25)\n"
   ]
  },
  {
   "cell_type": "markdown",
   "metadata": {},
   "source": [
    "# 5. Verifying the outcome"
   ]
  },
  {
   "cell_type": "markdown",
   "metadata": {},
   "source": [
    "Here, we check the df to confirm that everything went as expected."
   ]
  },
  {
   "cell_type": "code",
   "execution_count": 19,
   "metadata": {},
   "outputs": [
    {
     "data": {
      "text/html": [
       "<div>\n",
       "<style scoped>\n",
       "    .dataframe tbody tr th:only-of-type {\n",
       "        vertical-align: middle;\n",
       "    }\n",
       "\n",
       "    .dataframe tbody tr th {\n",
       "        vertical-align: top;\n",
       "    }\n",
       "\n",
       "    .dataframe thead th {\n",
       "        text-align: right;\n",
       "    }\n",
       "</style>\n",
       "<table border=\"1\" class=\"dataframe\">\n",
       "  <thead>\n",
       "    <tr style=\"text-align: right;\">\n",
       "      <th></th>\n",
       "      <th>ELECCIONES</th>\n",
       "      <th>ORGANIZACIÓN POLÍTICA</th>\n",
       "      <th>TOTAL VOTOS</th>\n",
       "    </tr>\n",
       "  </thead>\n",
       "  <tbody>\n",
       "    <tr>\n",
       "      <th>0</th>\n",
       "      <td>PRESIDENCIAL 2021 - 2DA VUELTA</td>\n",
       "      <td>PARTIDO POLITICO NACIONAL PERU LIBRE</td>\n",
       "      <td>8836380</td>\n",
       "    </tr>\n",
       "    <tr>\n",
       "      <th>1</th>\n",
       "      <td>PRESIDENCIAL 2021 - 2DA VUELTA</td>\n",
       "      <td>FUERZA POPULAR</td>\n",
       "      <td>8792117</td>\n",
       "    </tr>\n",
       "    <tr>\n",
       "      <th>2</th>\n",
       "      <td>PRESIDENCIAL 2021 - 2DA VUELTA</td>\n",
       "      <td>VOTOS EN BLANCO</td>\n",
       "      <td>121489</td>\n",
       "    </tr>\n",
       "    <tr>\n",
       "      <th>3</th>\n",
       "      <td>PRESIDENCIAL 2021 - 2DA VUELTA</td>\n",
       "      <td>VOTOS NULOS</td>\n",
       "      <td>1106816</td>\n",
       "    </tr>\n",
       "    <tr>\n",
       "      <th>4</th>\n",
       "      <td>PRESIDENCIAL 2021</td>\n",
       "      <td>PARTIDO POLITICO NACIONAL PERU LIBRE</td>\n",
       "      <td>2724752</td>\n",
       "    </tr>\n",
       "    <tr>\n",
       "      <th>...</th>\n",
       "      <td>...</td>\n",
       "      <td>...</td>\n",
       "      <td>...</td>\n",
       "    </tr>\n",
       "    <tr>\n",
       "      <th>152</th>\n",
       "      <td>PRESIDENCIAL 1936</td>\n",
       "      <td>PARTIDO REPUBLICANO</td>\n",
       "      <td>30803</td>\n",
       "    </tr>\n",
       "    <tr>\n",
       "      <th>153</th>\n",
       "      <td>PRESIDENCIAL 1931</td>\n",
       "      <td>UNION REVOLUCIONARIA</td>\n",
       "      <td>152149</td>\n",
       "    </tr>\n",
       "    <tr>\n",
       "      <th>154</th>\n",
       "      <td>PRESIDENCIAL 1931</td>\n",
       "      <td>PARTIDO APRISTA PERUANO</td>\n",
       "      <td>106088</td>\n",
       "    </tr>\n",
       "    <tr>\n",
       "      <th>155</th>\n",
       "      <td>PRESIDENCIAL 1931</td>\n",
       "      <td>PARTIDO DESCENTRALISTA</td>\n",
       "      <td>21950</td>\n",
       "    </tr>\n",
       "    <tr>\n",
       "      <th>156</th>\n",
       "      <td>PRESIDENCIAL 1931</td>\n",
       "      <td>PARTIDO COALICION NACIONAL</td>\n",
       "      <td>19640</td>\n",
       "    </tr>\n",
       "  </tbody>\n",
       "</table>\n",
       "<p>157 rows × 3 columns</p>\n",
       "</div>"
      ],
      "text/plain": [
       "                         ELECCIONES                 ORGANIZACIÓN POLÍTICA  \\\n",
       "0    PRESIDENCIAL 2021 - 2DA VUELTA  PARTIDO POLITICO NACIONAL PERU LIBRE   \n",
       "1    PRESIDENCIAL 2021 - 2DA VUELTA                        FUERZA POPULAR   \n",
       "2    PRESIDENCIAL 2021 - 2DA VUELTA                       VOTOS EN BLANCO   \n",
       "3    PRESIDENCIAL 2021 - 2DA VUELTA                           VOTOS NULOS   \n",
       "4                 PRESIDENCIAL 2021  PARTIDO POLITICO NACIONAL PERU LIBRE   \n",
       "..                              ...                                   ...   \n",
       "152               PRESIDENCIAL 1936                   PARTIDO REPUBLICANO   \n",
       "153               PRESIDENCIAL 1931                  UNION REVOLUCIONARIA   \n",
       "154               PRESIDENCIAL 1931               PARTIDO APRISTA PERUANO   \n",
       "155               PRESIDENCIAL 1931                PARTIDO DESCENTRALISTA   \n",
       "156               PRESIDENCIAL 1931            PARTIDO COALICION NACIONAL   \n",
       "\n",
       "     TOTAL VOTOS  \n",
       "0        8836380  \n",
       "1        8792117  \n",
       "2         121489  \n",
       "3        1106816  \n",
       "4        2724752  \n",
       "..           ...  \n",
       "152        30803  \n",
       "153       152149  \n",
       "154       106088  \n",
       "155        21950  \n",
       "156        19640  \n",
       "\n",
       "[157 rows x 3 columns]"
      ]
     },
     "execution_count": 19,
     "metadata": {},
     "output_type": "execute_result"
    }
   ],
   "source": [
    "df_results"
   ]
  },
  {
   "cell_type": "markdown",
   "metadata": {},
   "source": [
    "# 6. Exporting the results as an Excel file"
   ]
  },
  {
   "cell_type": "markdown",
   "metadata": {},
   "source": [
    "This final part of the code creates and saves an Excel file with the scraped election data. First, the name of the Excel file is defined as \"PE_Vote_1931-2021.xlsx\". The code then retrieves the current working directory using os.getcwd() and combines it with the file name to create the full file path. Finally, the df_results DataFrame is saved to this file path using to_excel. The parameter index = False ensures that the DataFrame's index is not saved as a separate column in the Excel file, keeping the output clean and properly formatted."
   ]
  },
  {
   "cell_type": "code",
   "execution_count": 23,
   "metadata": {},
   "outputs": [],
   "source": [
    "# Now, let's create the name of the xlsx file\n",
    "file_name = \"PE_Vote_1931-2021.xlsx\"\n",
    "\n",
    "# We'll place it in our courrent working route\n",
    "current_dir = os.getcwd()\n",
    "\n",
    "# Afterwards, we link the route and the file name to create the file path \n",
    "file_path = os.path.join(current_dir, file_name)\n",
    "\n",
    "# Last step: Save the dataframe \"df_results\"\n",
    "# Note that index = False prevents the dataframe's index get saved as a new column in our Excel file\n",
    "df_results.to_excel(file_path, index = False)"
   ]
  }
 ],
 "metadata": {
  "hide_input": false,
  "kernelspec": {
   "display_name": "Python 3 (ipykernel)",
   "language": "python",
   "name": "python3"
  },
  "language_info": {
   "codemirror_mode": {
    "name": "ipython",
    "version": 3
   },
   "file_extension": ".py",
   "mimetype": "text/x-python",
   "name": "python",
   "nbconvert_exporter": "python",
   "pygments_lexer": "ipython3",
   "version": "3.12.4"
  },
  "toc": {
   "base_numbering": 1,
   "nav_menu": {},
   "number_sections": true,
   "sideBar": true,
   "skip_h1_title": false,
   "title_cell": "Table of Contents",
   "title_sidebar": "Contents",
   "toc_cell": false,
   "toc_position": {},
   "toc_section_display": true,
   "toc_window_display": false
  }
 },
 "nbformat": 4,
 "nbformat_minor": 4
}
